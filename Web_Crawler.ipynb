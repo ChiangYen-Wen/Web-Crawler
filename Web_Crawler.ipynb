{
 "cells": [
  {
   "cell_type": "markdown",
   "metadata": {},
   "source": [
    "### 用爬蟲抓取已發行股數資料"
   ]
  },
  {
   "cell_type": "code",
   "execution_count": 1,
   "metadata": {},
   "outputs": [],
   "source": [
    "import requests\n",
    "from bs4 import BeautifulSoup\n",
    "import pandas as pd\n",
    "import time"
   ]
  },
  {
   "cell_type": "markdown",
   "metadata": {},
   "source": [
    "### 建立抓取資料函數"
   ]
  },
  {
   "cell_type": "markdown",
   "metadata": {},
   "source": [
    "> 這邊會需要注意兩個地方\n",
    "\n",
    ">> 1.用requests搜尋網址，BeautifulSoup找到資料所在的位置。\n",
    "\n",
    ">> 2.因為是同一個網址內的搜尋欄位(輸入ticker)，所以一定要加timesleep"
   ]
  },
  {
   "cell_type": "code",
   "execution_count": 2,
   "metadata": {},
   "outputs": [],
   "source": [
    "def get_data_df(url, stockNo):\n",
    "    form_data = {\n",
    "        'encodeURIComponent': 1,\n",
    "        'step': 1,\n",
    "        'firstin': 1,\n",
    "        'off': 1,\n",
    "        'queryName': 'co_id',\n",
    "        'inpuType': 'co_id',\n",
    "        'TYPEK': 'all',\n",
    "        'isnew': False,\n",
    "        'co_id': stockNo,\n",
    "        'date1': 100,\n",
    "        'date2': 110,\n",
    "        'qryType': 1\n",
    "    }\n",
    "    \n",
    "    r = requests.post(url, form_data)\n",
    "    soup = BeautifulSoup(r.text, 'html.parser')\n",
    "    tables = soup.find_all('table')\n",
    "    \n",
    "    ## 接下來就是從html裡面找資料\n",
    "\n",
    "    table = tables[0]                  # 本網頁的第一個表格\n",
    "    rows = table.find_all('tr')        # 從所有row裡面找資料\n",
    "    \n",
    "    # 用於儲存抓到的數據\n",
    "    data = []\n",
    "    \n",
    "    for row in rows:\n",
    "        th = row.find('th', class_='dColor nowrap')\n",
    "        if th and (\"已發行普通股數或TDR原股發行股數\" in th.text):\n",
    "            td = row.find('td', class_='lColor')\n",
    "            if td:\n",
    "                # 將結果存入列表中\n",
    "                data.append([stockNo, td.text.strip()])\n",
    "    \n",
    "    # 將數據轉換為 DataFrame\n",
    "    if data:\n",
    "        df = pd.DataFrame(data, columns=['證券代碼', '已發行普通股數或TDR原股發行股數'])\n",
    "    \n",
    "    # 如果股票代碼有錯的話\n",
    "    else: \n",
    "        print(f\"股票代碼 {stockNo} 未找到相關數據。\")\n",
    "        df = pd.DataFrame()\n",
    "    \n",
    "    return df"
   ]
  },
  {
   "cell_type": "markdown",
   "metadata": {},
   "source": [
    "### 用for迴圈抓取所需要的資料"
   ]
  },
  {
   "cell_type": "code",
   "execution_count": null,
   "metadata": {},
   "outputs": [],
   "source": [
    "# 從 Excel 文件中讀取股票代碼列表\n",
    "stock_list_df = pd.read_excel('證券代碼.xlsx')\n",
    "stock_list = stock_list_df['Ticker'].tolist()\n",
    "\n",
    "# 所有股票的數據並合併為一個 DataFrame\n",
    "all_data = pd.DataFrame()\n",
    "\n",
    "for stock in stock_list:\n",
    "\n",
    "    df = get_data_df(\"https://mops.twse.com.tw/mops/web/t05st03\", stock)\n",
    "    \n",
    "    if not df.empty:\n",
    "        all_data = pd.concat([all_data, df], ignore_index=True)\n",
    "\n",
    "    time.sleep(5)  # 增加 5 秒延遲，防止伺服器過載(一定要加，我被擋過)。\n",
    "\n",
    "# 將合併後的 DataFrame 存儲到 Excel 文件中\n",
    "if not all_data.empty:\n",
    "\n",
    "    all_data.to_excel('已發行普通股數或TDR原股發行股數.xlsx', index=False)\n",
    "    print(\"資料已存成 Excel 檔案: 已發行普通股數或TDR原股發行股數.xlsx\")\n",
    "\n",
    "else:\n",
    "    print(\"未找到任何有效數據，Excel 檔案未創建。\")\n"
   ]
  }
 ],
 "metadata": {
  "kernelspec": {
   "display_name": "Python 3",
   "language": "python",
   "name": "python3"
  },
  "language_info": {
   "codemirror_mode": {
    "name": "ipython",
    "version": 3
   },
   "file_extension": ".py",
   "mimetype": "text/x-python",
   "name": "python",
   "nbconvert_exporter": "python",
   "pygments_lexer": "ipython3",
   "version": "3.11.9"
  }
 },
 "nbformat": 4,
 "nbformat_minor": 2
}
