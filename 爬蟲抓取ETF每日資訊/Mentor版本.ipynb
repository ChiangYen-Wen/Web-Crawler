{
 "cells": [
  {
   "cell_type": "code",
   "execution_count": 1,
   "metadata": {},
   "outputs": [],
   "source": [
    "import requests\n",
    "from bs4 import BeautifulSoup\n",
    "import os\n",
    "from datetime import datetime\n",
    "os.chdir('C:/Python/PGIM_Intern/ETF Data Transfer')"
   ]
  },
  {
   "cell_type": "code",
   "execution_count": 2,
   "metadata": {},
   "outputs": [],
   "source": [
    "# 登入資訊\n",
    "LOGIN_URL = \"https://cleartest.twse.com.tw/etf/logon.jsp\"\n",
    "FILE_DOWNLOAD_URL = \"https://cleartest.twse.com.tw/etf/fileTransfer/SaveRecord.jsp\"\n",
    "ETF_ID = \"0098\"  # 指定的 ETF ID\n",
    "FILE_NAME = \"M56-20241127-910214711R.dat\"  # 指定下載的檔案名稱\n",
    "USER_ID = \"PGIM8802\"\n",
    "PASSWORD = \"Aa202410\"\n",
    "DOWNLOAD_DIR = \"ETF_Data\"  # 公槽的實際路徑"
   ]
  },
  {
   "cell_type": "code",
   "execution_count": 3,
   "metadata": {},
   "outputs": [],
   "source": [
    "def ensure_directory_exists(directory):\n",
    "    \"\"\"檢查並建立目錄\"\"\"\n",
    "    if not os.path.exists(directory):\n",
    "        os.makedirs(directory)\n",
    "        print(f\"目錄 {directory} 已建立。\")\n",
    "    else:\n",
    "        print(f\"目錄 {directory} 已存在。\")"
   ]
  },
  {
   "cell_type": "code",
   "execution_count": 4,
   "metadata": {},
   "outputs": [],
   "source": [
    "def download_file(session, base_url, etf_id, file_name):\n",
    "    \"\"\"下載指定檔案\"\"\"\n",
    "    # 拼接完整的檔案下載 URL\n",
    "    download_url = f\"{base_url}?etfid={etf_id}&fname={file_name}\"\n",
    "    print(f\"檔案下載 URL：{download_url}\")\n",
    "\n",
    "    # 發起下載請求\n",
    "    response = session.get(download_url, stream=True)\n",
    "    if response.status_code == 200:\n",
    "        filepath = os.path.join(DOWNLOAD_DIR, file_name)\n",
    "        with open(filepath, 'wb') as file:\n",
    "            for chunk in response.iter_content(chunk_size=1024):\n",
    "                file.write(chunk)\n",
    "        print(f\"檔案已成功下載並儲存至：{filepath}\")\n",
    "    else:\n",
    "        print(f\"下載檔案失敗，HTTP 狀態碼：{response.status_code}\")\n",
    "        print(\"請確認檔案是否存在或權限是否足夠。\")"
   ]
  },
  {
   "cell_type": "code",
   "execution_count": 5,
   "metadata": {},
   "outputs": [
    {
     "name": "stdout",
     "output_type": "stream",
     "text": [
      "開始執行下載程式...\n",
      "登入成功！正在嘗試下載指定檔案...\n",
      "目錄 ETF_Data 已存在。\n",
      "檔案下載 URL：https://cleartest.twse.com.tw/etf/fileTransfer/SaveRecord.jsp?etfid=0098&fname=M56-20241127-910214711R.dat\n",
      "檔案已成功下載並儲存至：ETF_Data\\M56-20241127-910214711R.dat\n"
     ]
    }
   ],
   "source": [
    "def login_and_download():\n",
    "    # 建立 Session\n",
    "    session = requests.Session()\n",
    "\n",
    "    # 登入資料\n",
    "    login_data = {\n",
    "        'etfId': \"PGIM88\",  # 公司 ID\n",
    "        'userId': USER_ID,  # 用戶 ID\n",
    "        'password': PASSWORD,  # 密碼\n",
    "    }\n",
    "\n",
    "    # 模擬登入\n",
    "    response = session.post(LOGIN_URL, data=login_data)\n",
    "    if response.status_code != 200 or \"錯誤\" in response.text:\n",
    "        print(\"登入失敗，請檢查登入資訊或網站狀態。\")\n",
    "        return\n",
    "\n",
    "    print(\"登入成功！正在嘗試下載指定檔案...\")\n",
    "\n",
    "    # 確保下載目錄存在\n",
    "    ensure_directory_exists(DOWNLOAD_DIR)\n",
    "    # 下載指定檔案\n",
    "    download_file(session, FILE_DOWNLOAD_URL, ETF_ID, FILE_NAME)    \n",
    "if __name__ == \"__main__\":\n",
    "    print(\"開始執行下載程式...\")\n",
    "    login_and_download()"
   ]
  },
  {
   "cell_type": "code",
   "execution_count": 6,
   "metadata": {},
   "outputs": [
    {
     "name": "stdout",
     "output_type": "stream",
     "text": [
      "開始爬蟲程序...\n",
      "登入成功！正在嘗試下載指定檔案...\n",
      "目錄 ETF_Data 已存在。\n",
      "檔案下載 URL：https://cleartest.twse.com.tw/etf/fileTransfer/SaveRecord.jsp?etfid=0098&fname=M56-20241127-910214711R.dat\n",
      "檔案已成功下載並儲存至：ETF_Data\\M56-20241127-910214711R.dat\n"
     ]
    }
   ],
   "source": [
    "def parse_file(filepath):\n",
    "    # 假設 .uat 檔案是文字檔，逐行解析\n",
    "    try:\n",
    "        with open(filepath, 'r', encoding='utf-8') as file:\n",
    "            for line in file:\n",
    "                # 解析邏輯 (根據檔案格式調整)\n",
    "                print(line.strip())\n",
    "        print(f\"{filepath} 已成功解析。\")\n",
    "    except Exception as e:\n",
    "        print(f\"解析檔案失敗：{e}\")\n",
    "\n",
    "if __name__ == \"__main__\":\n",
    "    # 執行爬蟲並每日排程\n",
    "    print(\"開始爬蟲程序...\")\n",
    "    login_and_download()"
   ]
  },
  {
   "cell_type": "code",
   "execution_count": 7,
   "metadata": {},
   "outputs": [],
   "source": [
    "### 解析檔案\n",
    "# file_path = \"ETF_Data/M56-20241127-910214711R.dat\"\n",
    "\n",
    "# with open(file_path, 'r', encoding='big5', errors='ignore') as file:\n",
    "#     for i in range(10):  # 讀取前 10 行\n",
    "#         print(file.readline().strip())"
   ]
  },
  {
   "cell_type": "code",
   "execution_count": null,
   "metadata": {},
   "outputs": [],
   "source": []
  }
 ],
 "metadata": {
  "kernelspec": {
   "display_name": "base",
   "language": "python",
   "name": "python3"
  },
  "language_info": {
   "codemirror_mode": {
    "name": "ipython",
    "version": 3
   },
   "file_extension": ".py",
   "mimetype": "text/x-python",
   "name": "python",
   "nbconvert_exporter": "python",
   "pygments_lexer": "ipython3",
   "version": "3.12.3"
  }
 },
 "nbformat": 4,
 "nbformat_minor": 2
}
